{
  "nbformat": 4,
  "nbformat_minor": 0,
  "metadata": {
    "colab": {
      "provenance": [],
      "gpuType": "V100"
    },
    "kernelspec": {
      "name": "python3",
      "display_name": "Python 3"
    },
    "language_info": {
      "name": "python"
    },
    "accelerator": "GPU",
    "widgets": {
      "application/vnd.jupyter.widget-state+json": {
        "f6b78348fd124ef98cb7bdc6bfc08a65": {
          "model_module": "@jupyter-widgets/controls",
          "model_name": "HBoxModel",
          "model_module_version": "1.5.0",
          "state": {
            "_dom_classes": [],
            "_model_module": "@jupyter-widgets/controls",
            "_model_module_version": "1.5.0",
            "_model_name": "HBoxModel",
            "_view_count": null,
            "_view_module": "@jupyter-widgets/controls",
            "_view_module_version": "1.5.0",
            "_view_name": "HBoxView",
            "box_style": "",
            "children": [
              "IPY_MODEL_a0fa8898a5b843e08a633d2aea93e3ed",
              "IPY_MODEL_f1c8d86abf95465e9eb2996e8596c2c7",
              "IPY_MODEL_7f612d8684694a2b8ce657599a408ef8"
            ],
            "layout": "IPY_MODEL_f6ed4fde330342958fd9f1a1f77c9a08"
          }
        },
        "a0fa8898a5b843e08a633d2aea93e3ed": {
          "model_module": "@jupyter-widgets/controls",
          "model_name": "HTMLModel",
          "model_module_version": "1.5.0",
          "state": {
            "_dom_classes": [],
            "_model_module": "@jupyter-widgets/controls",
            "_model_module_version": "1.5.0",
            "_model_name": "HTMLModel",
            "_view_count": null,
            "_view_module": "@jupyter-widgets/controls",
            "_view_module_version": "1.5.0",
            "_view_name": "HTMLView",
            "description": "",
            "description_tooltip": null,
            "layout": "IPY_MODEL_fb7f7f0444354260b20c9ef1b4b674de",
            "placeholder": "​",
            "style": "IPY_MODEL_99e5a577179045b687c945b4e04b409f",
            "value": "100%"
          }
        },
        "f1c8d86abf95465e9eb2996e8596c2c7": {
          "model_module": "@jupyter-widgets/controls",
          "model_name": "FloatProgressModel",
          "model_module_version": "1.5.0",
          "state": {
            "_dom_classes": [],
            "_model_module": "@jupyter-widgets/controls",
            "_model_module_version": "1.5.0",
            "_model_name": "FloatProgressModel",
            "_view_count": null,
            "_view_module": "@jupyter-widgets/controls",
            "_view_module_version": "1.5.0",
            "_view_name": "ProgressView",
            "bar_style": "success",
            "description": "",
            "description_tooltip": null,
            "layout": "IPY_MODEL_afcd8f7c60764bd4ac8e3f7e66e67607",
            "max": 100,
            "min": 0,
            "orientation": "horizontal",
            "style": "IPY_MODEL_0ac1fc7cf67245da93c83f5c26282ea8",
            "value": 100
          }
        },
        "7f612d8684694a2b8ce657599a408ef8": {
          "model_module": "@jupyter-widgets/controls",
          "model_name": "HTMLModel",
          "model_module_version": "1.5.0",
          "state": {
            "_dom_classes": [],
            "_model_module": "@jupyter-widgets/controls",
            "_model_module_version": "1.5.0",
            "_model_name": "HTMLModel",
            "_view_count": null,
            "_view_module": "@jupyter-widgets/controls",
            "_view_module_version": "1.5.0",
            "_view_name": "HTMLView",
            "description": "",
            "description_tooltip": null,
            "layout": "IPY_MODEL_0e84370058a74631a3dd6b13873bdf77",
            "placeholder": "​",
            "style": "IPY_MODEL_b917af31c80d4b04af48485e551552db",
            "value": " 100/100 [00:37&lt;00:00,  4.21it/s]"
          }
        },
        "f6ed4fde330342958fd9f1a1f77c9a08": {
          "model_module": "@jupyter-widgets/base",
          "model_name": "LayoutModel",
          "model_module_version": "1.2.0",
          "state": {
            "_model_module": "@jupyter-widgets/base",
            "_model_module_version": "1.2.0",
            "_model_name": "LayoutModel",
            "_view_count": null,
            "_view_module": "@jupyter-widgets/base",
            "_view_module_version": "1.2.0",
            "_view_name": "LayoutView",
            "align_content": null,
            "align_items": null,
            "align_self": null,
            "border": null,
            "bottom": null,
            "display": null,
            "flex": null,
            "flex_flow": null,
            "grid_area": null,
            "grid_auto_columns": null,
            "grid_auto_flow": null,
            "grid_auto_rows": null,
            "grid_column": null,
            "grid_gap": null,
            "grid_row": null,
            "grid_template_areas": null,
            "grid_template_columns": null,
            "grid_template_rows": null,
            "height": null,
            "justify_content": null,
            "justify_items": null,
            "left": null,
            "margin": null,
            "max_height": null,
            "max_width": null,
            "min_height": null,
            "min_width": null,
            "object_fit": null,
            "object_position": null,
            "order": null,
            "overflow": null,
            "overflow_x": null,
            "overflow_y": null,
            "padding": null,
            "right": null,
            "top": null,
            "visibility": null,
            "width": null
          }
        },
        "fb7f7f0444354260b20c9ef1b4b674de": {
          "model_module": "@jupyter-widgets/base",
          "model_name": "LayoutModel",
          "model_module_version": "1.2.0",
          "state": {
            "_model_module": "@jupyter-widgets/base",
            "_model_module_version": "1.2.0",
            "_model_name": "LayoutModel",
            "_view_count": null,
            "_view_module": "@jupyter-widgets/base",
            "_view_module_version": "1.2.0",
            "_view_name": "LayoutView",
            "align_content": null,
            "align_items": null,
            "align_self": null,
            "border": null,
            "bottom": null,
            "display": null,
            "flex": null,
            "flex_flow": null,
            "grid_area": null,
            "grid_auto_columns": null,
            "grid_auto_flow": null,
            "grid_auto_rows": null,
            "grid_column": null,
            "grid_gap": null,
            "grid_row": null,
            "grid_template_areas": null,
            "grid_template_columns": null,
            "grid_template_rows": null,
            "height": null,
            "justify_content": null,
            "justify_items": null,
            "left": null,
            "margin": null,
            "max_height": null,
            "max_width": null,
            "min_height": null,
            "min_width": null,
            "object_fit": null,
            "object_position": null,
            "order": null,
            "overflow": null,
            "overflow_x": null,
            "overflow_y": null,
            "padding": null,
            "right": null,
            "top": null,
            "visibility": null,
            "width": null
          }
        },
        "99e5a577179045b687c945b4e04b409f": {
          "model_module": "@jupyter-widgets/controls",
          "model_name": "DescriptionStyleModel",
          "model_module_version": "1.5.0",
          "state": {
            "_model_module": "@jupyter-widgets/controls",
            "_model_module_version": "1.5.0",
            "_model_name": "DescriptionStyleModel",
            "_view_count": null,
            "_view_module": "@jupyter-widgets/base",
            "_view_module_version": "1.2.0",
            "_view_name": "StyleView",
            "description_width": ""
          }
        },
        "afcd8f7c60764bd4ac8e3f7e66e67607": {
          "model_module": "@jupyter-widgets/base",
          "model_name": "LayoutModel",
          "model_module_version": "1.2.0",
          "state": {
            "_model_module": "@jupyter-widgets/base",
            "_model_module_version": "1.2.0",
            "_model_name": "LayoutModel",
            "_view_count": null,
            "_view_module": "@jupyter-widgets/base",
            "_view_module_version": "1.2.0",
            "_view_name": "LayoutView",
            "align_content": null,
            "align_items": null,
            "align_self": null,
            "border": null,
            "bottom": null,
            "display": null,
            "flex": null,
            "flex_flow": null,
            "grid_area": null,
            "grid_auto_columns": null,
            "grid_auto_flow": null,
            "grid_auto_rows": null,
            "grid_column": null,
            "grid_gap": null,
            "grid_row": null,
            "grid_template_areas": null,
            "grid_template_columns": null,
            "grid_template_rows": null,
            "height": null,
            "justify_content": null,
            "justify_items": null,
            "left": null,
            "margin": null,
            "max_height": null,
            "max_width": null,
            "min_height": null,
            "min_width": null,
            "object_fit": null,
            "object_position": null,
            "order": null,
            "overflow": null,
            "overflow_x": null,
            "overflow_y": null,
            "padding": null,
            "right": null,
            "top": null,
            "visibility": null,
            "width": null
          }
        },
        "0ac1fc7cf67245da93c83f5c26282ea8": {
          "model_module": "@jupyter-widgets/controls",
          "model_name": "ProgressStyleModel",
          "model_module_version": "1.5.0",
          "state": {
            "_model_module": "@jupyter-widgets/controls",
            "_model_module_version": "1.5.0",
            "_model_name": "ProgressStyleModel",
            "_view_count": null,
            "_view_module": "@jupyter-widgets/base",
            "_view_module_version": "1.2.0",
            "_view_name": "StyleView",
            "bar_color": null,
            "description_width": ""
          }
        },
        "0e84370058a74631a3dd6b13873bdf77": {
          "model_module": "@jupyter-widgets/base",
          "model_name": "LayoutModel",
          "model_module_version": "1.2.0",
          "state": {
            "_model_module": "@jupyter-widgets/base",
            "_model_module_version": "1.2.0",
            "_model_name": "LayoutModel",
            "_view_count": null,
            "_view_module": "@jupyter-widgets/base",
            "_view_module_version": "1.2.0",
            "_view_name": "LayoutView",
            "align_content": null,
            "align_items": null,
            "align_self": null,
            "border": null,
            "bottom": null,
            "display": null,
            "flex": null,
            "flex_flow": null,
            "grid_area": null,
            "grid_auto_columns": null,
            "grid_auto_flow": null,
            "grid_auto_rows": null,
            "grid_column": null,
            "grid_gap": null,
            "grid_row": null,
            "grid_template_areas": null,
            "grid_template_columns": null,
            "grid_template_rows": null,
            "height": null,
            "justify_content": null,
            "justify_items": null,
            "left": null,
            "margin": null,
            "max_height": null,
            "max_width": null,
            "min_height": null,
            "min_width": null,
            "object_fit": null,
            "object_position": null,
            "order": null,
            "overflow": null,
            "overflow_x": null,
            "overflow_y": null,
            "padding": null,
            "right": null,
            "top": null,
            "visibility": null,
            "width": null
          }
        },
        "b917af31c80d4b04af48485e551552db": {
          "model_module": "@jupyter-widgets/controls",
          "model_name": "DescriptionStyleModel",
          "model_module_version": "1.5.0",
          "state": {
            "_model_module": "@jupyter-widgets/controls",
            "_model_module_version": "1.5.0",
            "_model_name": "DescriptionStyleModel",
            "_view_count": null,
            "_view_module": "@jupyter-widgets/base",
            "_view_module_version": "1.2.0",
            "_view_name": "StyleView",
            "description_width": ""
          }
        }
      }
    }
  },
  "cells": [
    {
      "cell_type": "markdown",
      "source": [
        "# Overview\n",
        "\n",
        "This notebook explores how a single head transformer does sorting."
      ],
      "metadata": {
        "id": "JnijIiRyKEAu"
      }
    },
    {
      "cell_type": "code",
      "execution_count": 1,
      "metadata": {
        "id": "6afIXZpj_-N5"
      },
      "outputs": [],
      "source": [
        "!pip install transformer_lens > /dev/null"
      ]
    },
    {
      "cell_type": "code",
      "source": [
        "from random import sample\n",
        "import torch\n",
        "\n",
        "mid_id = 0\n",
        "low = 2\n",
        "high = 20\n",
        "size = 5\n",
        "\n",
        "def generate_sequence_prefix(low, high, size):\n",
        "  return sample(range(low,high+1),size)\n",
        "\n",
        "def generate_sequence(low, high, size):\n",
        "  sequence = generate_sequence_prefix(low, high, size)\n",
        "  sequence = sequence + [mid_id] + sorted(sequence)\n",
        "  return sequence\n",
        "\n",
        "def generate_sequences(low=low, high=high, size=9, count=50000):\n",
        "  res = []\n",
        "  for i in range(count):\n",
        "    res.append(torch.tensor(generate_sequence(low, high, size)))\n",
        "  return res\n",
        "\n",
        "\n",
        "def test_sequence_coverage(test, train):\n",
        "  train_set = set(tuple(s) for s in train)\n",
        "  test_set = set(tuple(s) for s in test)\n",
        "\n",
        "  return len(train_set.intersection(test_set)) / len(test_set)"
      ],
      "metadata": {
        "id": "bNFXrJgiiT5L"
      },
      "execution_count": 2,
      "outputs": []
    },
    {
      "cell_type": "code",
      "source": [
        "import torch\n",
        "from torch.utils.data import Dataset\n",
        "\n",
        "class MyDataset(Dataset):\n",
        "    def __init__(self, low=low,high=high,size=5,count=5):\n",
        "        self.data= generate_sequences(low=low, high=high, size=size, count=count)\n",
        "\n",
        "    def __len__(self):\n",
        "        return len(self.data)\n",
        "\n",
        "    def __getitem__(self, index):\n",
        "        item = self.data[index]\n",
        "        return {\"tokens\": item}"
      ],
      "metadata": {
        "id": "ZrXHgSbShgGp"
      },
      "execution_count": 3,
      "outputs": []
    },
    {
      "cell_type": "code",
      "source": [
        "from transformers import PreTrainedTokenizer\n",
        "from transformer_lens import HookedTransformer, HookedTransformerConfig\n",
        "\n",
        "vocab_size = high - low + 3\n",
        "\n",
        "cfg = HookedTransformerConfig(\n",
        "    n_layers = 1,\n",
        "    d_model = 16,\n",
        "    n_ctx = size * 2 + 1,\n",
        "    d_head = 16,\n",
        "    d_vocab = vocab_size,\n",
        "    d_vocab_out = vocab_size,\n",
        "    act_fn = 'relu'\n",
        ")"
      ],
      "metadata": {
        "id": "XeMID0EvA_SY"
      },
      "execution_count": 4,
      "outputs": []
    },
    {
      "cell_type": "code",
      "source": [
        "from dataclasses import dataclass\n",
        "from typing import Optional\n",
        "\n",
        "import torch\n",
        "import torch.optim as optim\n",
        "import wandb\n",
        "from torch.utils.data import DataLoader, Dataset\n",
        "from tqdm.auto import tqdm\n",
        "\n",
        "from transformer_lens import HookedTransformer, utils\n",
        "from transformer_lens.train import HookedTransformerTrainConfig\n",
        "\n",
        "from typing import Any, Callable, Dict, List, Optional, Tuple, Type, Union, cast\n",
        "from jaxtyping import Float, Int\n",
        "\n",
        "def lm_accuracy(\n",
        "    logits: Float[torch.Tensor, \"batch pos d_vocab\"],\n",
        "    tokens: Int[torch.Tensor, \"batch pos\"],\n",
        "    per_example: bool = True,\n",
        ") -> Union[Float[torch.Tensor, \"\"], Float[torch.Tensor, \"batch pos\"]]:\n",
        "    \"\"\"Cross-Entropy Accuracy for Language Modelling. We measure the accuracy on the logits for predicting the NEXT token.\n",
        "\n",
        "    If per_token is True, returns the boolean for top 1 accuracy for each token in the batch. Note that this has size [batch, seq_len-1], as we cannot predict the first token.\n",
        "    \"\"\"\n",
        "    top_prediction = logits.argmax(dim=-1)\n",
        "    correct_matches = top_prediction[:, :-1] == tokens[:, 1:]\n",
        "    if per_example:\n",
        "        example_accuracies = correct_matches.min(dim=-1).values\n",
        "        return example_accuracies.sum() / example_accuracies.numel()\n",
        "    else:\n",
        "        return correct_matches.sum() / correct_matches.numel()\n",
        "\n",
        "\n",
        "def train(\n",
        "    model: HookedTransformer,\n",
        "    config: HookedTransformerTrainConfig,\n",
        "    dataset: Dataset,\n",
        "    test_dataset: Dataset,\n",
        ") -> HookedTransformer:\n",
        "    \"\"\"\n",
        "    Trains an HookedTransformer model on an autoregressive language modeling task.\n",
        "    Args:\n",
        "        model: The model to train\n",
        "        config: The training configuration\n",
        "        dataset: The dataset to train on - this function assumes the dataset is set up for autoregressive language modeling.\n",
        "    Returns:\n",
        "        The trained model\n",
        "    \"\"\"\n",
        "    torch.manual_seed(config.seed)\n",
        "    model.train()\n",
        "    if config.wandb:\n",
        "        if config.wandb_project_name is None:\n",
        "            config.wandb_project_name = \"easy-transformer\"\n",
        "        wandb.init(project=config.wandb_project_name, config=vars(config))\n",
        "\n",
        "    if config.device is None:\n",
        "        config.device = utils.get_device()\n",
        "\n",
        "    if config.optimizer_name in [\"Adam\", \"AdamW\"]:\n",
        "        # Weight decay in Adam is implemented badly, so use AdamW instead (see PyTorch AdamW docs)\n",
        "        if config.weight_decay is not None:\n",
        "            optimizer = optim.AdamW(\n",
        "                model.parameters(),\n",
        "                lr=config.lr,\n",
        "                weight_decay=config.weight_decay,\n",
        "            )\n",
        "        else:\n",
        "            optimizer = optim.Adam(\n",
        "                model.parameters(),\n",
        "                lr=config.lr,\n",
        "            )\n",
        "    elif config.optimizer_name == \"SGD\":\n",
        "        optimizer = optim.SGD(\n",
        "            model.parameters(),\n",
        "            lr=config.lr,\n",
        "            weight_decay=config.weight_decay\n",
        "            if config.weight_decay is not None\n",
        "            else 0.0,\n",
        "            momentum=config.momentum,\n",
        "        )\n",
        "    else:\n",
        "        raise ValueError(f\"Optimizer {config.optimizer_name} not supported\")\n",
        "\n",
        "    scheduler = None\n",
        "    if config.warmup_steps > 0:\n",
        "        scheduler = optim.lr_scheduler.LambdaLR(\n",
        "            optimizer,\n",
        "            lr_lambda=lambda step: min(1.0, step / config.warmup_steps),\n",
        "        )\n",
        "\n",
        "    dataloader = DataLoader(dataset, batch_size=config.batch_size, shuffle=True)\n",
        "    test_dataloader = DataLoader(test_dataset, batch_size=config.batch_size, shuffle=True)\n",
        "\n",
        "    model.to(config.device)\n",
        "\n",
        "    batches = []\n",
        "    losses = []\n",
        "    accuracies = []\n",
        "    predictions = []\n",
        "\n",
        "    test_losses = []\n",
        "    test_accuracies = []\n",
        "\n",
        "    for epoch in tqdm(range(1, config.num_epochs + 1)):\n",
        "        samples = 0\n",
        "        for step, (batch, test_batch) in enumerate(zip(dataloader, test_dataloader)):\n",
        "            tokens = batch[\"tokens\"].to(config.device)\n",
        "\n",
        "            loss = model(tokens, return_type=\"loss\")\n",
        "            logits = model(tokens, return_type=\"logits\")\n",
        "\n",
        "            prediction = model(tokens)\n",
        "            predictions.append(prediction)\n",
        "\n",
        "            test_tokens = test_batch[\"tokens\"].to(config.device)\n",
        "\n",
        "            test_loss = model(test_tokens, return_type=\"loss\")\n",
        "            test_logits = model(test_tokens, return_type=\"logits\")\n",
        "\n",
        "            loss.backward()\n",
        "            if config.max_grad_norm is not None:\n",
        "                torch.nn.utils.clip_grad_norm_(model.parameters(), config.max_grad_norm)\n",
        "            optimizer.step()\n",
        "            if config.warmup_steps > 0:\n",
        "                assert scheduler is not None\n",
        "                scheduler.step()\n",
        "            optimizer.zero_grad()\n",
        "\n",
        "            samples += tokens.shape[0]\n",
        "\n",
        "            if config.wandb:\n",
        "                wandb.log(\n",
        "                    {\"train_loss\": loss.item(), \"samples\": samples, \"epoch\": epoch}\n",
        "                )\n",
        "\n",
        "            accuracy = lm_accuracy(logits[:,size+1:,:], tokens[:,size+1:])\n",
        "            test_accuracy = lm_accuracy(test_logits[:,size+1:,:], test_tokens[:,size+1:])\n",
        "\n",
        "            if epoch == config.num_epochs:\n",
        "              batches.append(batch)\n",
        "              accuracies.append(accuracy.item())\n",
        "              losses.append(loss.item())\n",
        "              test_accuracies.append(test_accuracy.item())\n",
        "              test_losses.append(test_loss.item())\n",
        "\n",
        "            if config.print_every is not None and step % config.print_every == 0:\n",
        "                print(f\"epoch {epoch} samples {samples} step {step} loss {loss.item()}\")\n",
        "\n",
        "            if (\n",
        "                config.save_every is not None\n",
        "                and step % config.save_every == 0\n",
        "                and config.save_dir is not None\n",
        "            ):\n",
        "                torch.save(model.state_dict(), f\"{config.save_dir}/model_{step}.pt\")\n",
        "\n",
        "            if config.max_steps is not None and step >= config.max_steps:\n",
        "                break\n",
        "\n",
        "    return model, {\n",
        "        'losses': losses,\n",
        "        'accuracies': accuracies,\n",
        "        'test_losses': test_losses,\n",
        "        'test_accuracies': test_accuracies,\n",
        "        'batches': batches,\n",
        "        'predictions' : predictions,\n",
        "    }"
      ],
      "metadata": {
        "id": "fZfzcZT7VWiC"
      },
      "execution_count": 5,
      "outputs": []
    },
    {
      "cell_type": "code",
      "source": [
        "import matplotlib.pyplot as plt\n",
        "import seaborn as sns\n",
        "\n",
        "def plot_numbers(*numbers):\n",
        "    # Set the Seaborn style\n",
        "    sns.set(style=\"darkgrid\")\n",
        "\n",
        "    # Create a figure and axis\n",
        "    fig, ax = plt.subplots(figsize=(10, 6))\n",
        "\n",
        "    colors = [\"blue\", \"red\"]\n",
        "\n",
        "    for color, number in zip(colors, numbers):\n",
        "      # Plot the numbers as a line graph\n",
        "      sns.lineplot(x=range(len(number)), y=number, ax=ax, color=color, linewidth=2)\n",
        "\n",
        "    # Set the title and labels\n",
        "    ax.set_title(\"Number Graph\", fontsize=16)\n",
        "    ax.set_xlabel(\"Index\", fontsize=12)\n",
        "    ax.set_ylabel(\"Value\", fontsize=12)\n",
        "\n",
        "    # Rotate the x-axis labels if needed\n",
        "    plt.xticks(rotation=45)\n",
        "\n",
        "    # Show the plot\n",
        "    plt.tight_layout()\n",
        "    plt.show()\n",
        "\n"
      ],
      "metadata": {
        "id": "CD-2wEmtW00n"
      },
      "execution_count": 6,
      "outputs": []
    },
    {
      "cell_type": "code",
      "source": [
        "from collections import defaultdict\n",
        "\n",
        "def make_save_hook_func():\n",
        "  hook_values = []\n",
        "\n",
        "  def save_value_hook(value, hook):\n",
        "    hook_values.append(value)\n",
        "\n",
        "  return save_value_hook, hook_values"
      ],
      "metadata": {
        "id": "eEgtgxAg8IgL"
      },
      "execution_count": 7,
      "outputs": []
    },
    {
      "cell_type": "code",
      "source": [
        "dataset = MyDataset(low=low, high=high, size=size, count=2000)\n",
        "test_dataset = MyDataset(low=low, high=high, size=size, count=2000)\n",
        "\n",
        "print(test_sequence_coverage(test_dataset.data, dataset.data))"
      ],
      "metadata": {
        "colab": {
          "base_uri": "https://localhost:8080/"
        },
        "id": "mXSWHAsV5lHj",
        "outputId": "ae48dcf1-51d1-41ba-f478-4f3d6500714c"
      },
      "execution_count": 8,
      "outputs": [
        {
          "output_type": "stream",
          "name": "stdout",
          "text": [
            "0.0\n"
          ]
        }
      ]
    },
    {
      "cell_type": "code",
      "source": [
        "model = HookedTransformer(\n",
        "    cfg=cfg,\n",
        ")\n",
        "\n",
        "model.reset_hooks()\n",
        "\n",
        "# Access the attention scores for each block\n",
        "attn_score_hook, attn_score_hook_values = make_save_hook_func()\n",
        "model.blocks[0].attn.hook_attn_scores.add_hook(attn_score_hook)\n",
        "\n",
        "value_score_hook, value_score_hook_values = make_save_hook_func()\n",
        "model.blocks[0].hook_resid_post.add_hook(value_score_hook)\n",
        "\n",
        "train_cfg = HookedTransformerTrainConfig(\n",
        "    batch_size = 250,\n",
        "    num_epochs = 100,\n",
        "    lr = 1e-3\n",
        ")\n",
        "\n",
        "model, aux = train(\n",
        "    model=model,\n",
        "    config=train_cfg,\n",
        "    dataset=dataset,\n",
        "    test_dataset=test_dataset\n",
        ")"
      ],
      "metadata": {
        "colab": {
          "base_uri": "https://localhost:8080/",
          "height": 1000,
          "referenced_widgets": [
            "f6b78348fd124ef98cb7bdc6bfc08a65",
            "a0fa8898a5b843e08a633d2aea93e3ed",
            "f1c8d86abf95465e9eb2996e8596c2c7",
            "7f612d8684694a2b8ce657599a408ef8",
            "f6ed4fde330342958fd9f1a1f77c9a08",
            "fb7f7f0444354260b20c9ef1b4b674de",
            "99e5a577179045b687c945b4e04b409f",
            "afcd8f7c60764bd4ac8e3f7e66e67607",
            "0ac1fc7cf67245da93c83f5c26282ea8",
            "0e84370058a74631a3dd6b13873bdf77",
            "b917af31c80d4b04af48485e551552db"
          ]
        },
        "id": "X7UxzpNSSuz-",
        "outputId": "0b606415-4dac-49e1-ca57-de6576ad24d8"
      },
      "execution_count": 9,
      "outputs": [
        {
          "output_type": "stream",
          "name": "stdout",
          "text": [
            "Moving model to device:  cuda\n"
          ]
        },
        {
          "output_type": "display_data",
          "data": {
            "text/plain": [
              "  0%|          | 0/100 [00:00<?, ?it/s]"
            ],
            "application/vnd.jupyter.widget-view+json": {
              "version_major": 2,
              "version_minor": 0,
              "model_id": "f6b78348fd124ef98cb7bdc6bfc08a65"
            }
          },
          "metadata": {}
        },
        {
          "output_type": "stream",
          "name": "stdout",
          "text": [
            "epoch 1 samples 250 step 0 loss 3.213412046432495\n",
            "epoch 2 samples 250 step 0 loss 3.064371347427368\n",
            "epoch 3 samples 250 step 0 loss 2.972081422805786\n",
            "epoch 4 samples 250 step 0 loss 2.8760807514190674\n",
            "epoch 5 samples 250 step 0 loss 2.7837960720062256\n",
            "epoch 6 samples 250 step 0 loss 2.6947994232177734\n",
            "epoch 7 samples 250 step 0 loss 2.620619773864746\n",
            "epoch 8 samples 250 step 0 loss 2.5452630519866943\n",
            "epoch 9 samples 250 step 0 loss 2.4773850440979004\n",
            "epoch 10 samples 250 step 0 loss 2.438835382461548\n",
            "epoch 11 samples 250 step 0 loss 2.3990976810455322\n",
            "epoch 12 samples 250 step 0 loss 2.3574626445770264\n",
            "epoch 13 samples 250 step 0 loss 2.3360049724578857\n",
            "epoch 14 samples 250 step 0 loss 2.3216381072998047\n",
            "epoch 15 samples 250 step 0 loss 2.292340040206909\n",
            "epoch 16 samples 250 step 0 loss 2.2465529441833496\n",
            "epoch 17 samples 250 step 0 loss 2.2326931953430176\n",
            "epoch 18 samples 250 step 0 loss 2.211273431777954\n",
            "epoch 19 samples 250 step 0 loss 2.1731061935424805\n",
            "epoch 20 samples 250 step 0 loss 2.147969961166382\n",
            "epoch 21 samples 250 step 0 loss 2.1309916973114014\n",
            "epoch 22 samples 250 step 0 loss 2.087568998336792\n",
            "epoch 23 samples 250 step 0 loss 2.0507633686065674\n",
            "epoch 24 samples 250 step 0 loss 2.022057056427002\n",
            "epoch 25 samples 250 step 0 loss 1.9764946699142456\n",
            "epoch 26 samples 250 step 0 loss 1.951432228088379\n",
            "epoch 27 samples 250 step 0 loss 1.9079325199127197\n",
            "epoch 28 samples 250 step 0 loss 1.8581782579421997\n",
            "epoch 29 samples 250 step 0 loss 1.822007417678833\n",
            "epoch 30 samples 250 step 0 loss 1.777051568031311\n",
            "epoch 31 samples 250 step 0 loss 1.7308144569396973\n",
            "epoch 32 samples 250 step 0 loss 1.6778656244277954\n",
            "epoch 33 samples 250 step 0 loss 1.6457403898239136\n",
            "epoch 34 samples 250 step 0 loss 1.6109724044799805\n",
            "epoch 35 samples 250 step 0 loss 1.561439037322998\n",
            "epoch 36 samples 250 step 0 loss 1.5357801914215088\n",
            "epoch 37 samples 250 step 0 loss 1.4951714277267456\n",
            "epoch 38 samples 250 step 0 loss 1.4759764671325684\n",
            "epoch 39 samples 250 step 0 loss 1.4501880407333374\n",
            "epoch 40 samples 250 step 0 loss 1.4265503883361816\n",
            "epoch 41 samples 250 step 0 loss 1.4097460508346558\n",
            "epoch 42 samples 250 step 0 loss 1.39717435836792\n",
            "epoch 43 samples 250 step 0 loss 1.3783817291259766\n",
            "epoch 44 samples 250 step 0 loss 1.3633525371551514\n",
            "epoch 45 samples 250 step 0 loss 1.3492799997329712\n",
            "epoch 46 samples 250 step 0 loss 1.341492772102356\n",
            "epoch 47 samples 250 step 0 loss 1.3311558961868286\n",
            "epoch 48 samples 250 step 0 loss 1.321635365486145\n",
            "epoch 49 samples 250 step 0 loss 1.3125786781311035\n",
            "epoch 50 samples 250 step 0 loss 1.302551507949829\n",
            "epoch 51 samples 250 step 0 loss 1.2844444513320923\n",
            "epoch 52 samples 250 step 0 loss 1.2777365446090698\n",
            "epoch 53 samples 250 step 0 loss 1.2805086374282837\n",
            "epoch 54 samples 250 step 0 loss 1.2657136917114258\n",
            "epoch 55 samples 250 step 0 loss 1.2645177841186523\n",
            "epoch 56 samples 250 step 0 loss 1.260079264640808\n",
            "epoch 57 samples 250 step 0 loss 1.2487772703170776\n",
            "epoch 58 samples 250 step 0 loss 1.2577037811279297\n",
            "epoch 59 samples 250 step 0 loss 1.245527744293213\n",
            "epoch 60 samples 250 step 0 loss 1.238655686378479\n",
            "epoch 61 samples 250 step 0 loss 1.2372264862060547\n",
            "epoch 62 samples 250 step 0 loss 1.235613226890564\n",
            "epoch 63 samples 250 step 0 loss 1.2349324226379395\n",
            "epoch 64 samples 250 step 0 loss 1.2285890579223633\n",
            "epoch 65 samples 250 step 0 loss 1.2313809394836426\n",
            "epoch 66 samples 250 step 0 loss 1.2259495258331299\n",
            "epoch 67 samples 250 step 0 loss 1.226311445236206\n",
            "epoch 68 samples 250 step 0 loss 1.2287347316741943\n",
            "epoch 69 samples 250 step 0 loss 1.2247262001037598\n",
            "epoch 70 samples 250 step 0 loss 1.2191147804260254\n",
            "epoch 71 samples 250 step 0 loss 1.2118878364562988\n",
            "epoch 72 samples 250 step 0 loss 1.2168445587158203\n",
            "epoch 73 samples 250 step 0 loss 1.2110190391540527\n",
            "epoch 74 samples 250 step 0 loss 1.2108014822006226\n",
            "epoch 75 samples 250 step 0 loss 1.2058392763137817\n",
            "epoch 76 samples 250 step 0 loss 1.2053312063217163\n",
            "epoch 77 samples 250 step 0 loss 1.205625057220459\n",
            "epoch 78 samples 250 step 0 loss 1.2062532901763916\n",
            "epoch 79 samples 250 step 0 loss 1.2045608758926392\n",
            "epoch 80 samples 250 step 0 loss 1.2033933401107788\n",
            "epoch 81 samples 250 step 0 loss 1.2001808881759644\n",
            "epoch 82 samples 250 step 0 loss 1.1977477073669434\n",
            "epoch 83 samples 250 step 0 loss 1.2007673978805542\n",
            "epoch 84 samples 250 step 0 loss 1.1976799964904785\n",
            "epoch 85 samples 250 step 0 loss 1.1941509246826172\n",
            "epoch 86 samples 250 step 0 loss 1.1899386644363403\n",
            "epoch 87 samples 250 step 0 loss 1.1893244981765747\n",
            "epoch 88 samples 250 step 0 loss 1.1913766860961914\n",
            "epoch 89 samples 250 step 0 loss 1.1895666122436523\n",
            "epoch 90 samples 250 step 0 loss 1.1918009519577026\n",
            "epoch 91 samples 250 step 0 loss 1.1849819421768188\n",
            "epoch 92 samples 250 step 0 loss 1.19003427028656\n",
            "epoch 93 samples 250 step 0 loss 1.1867504119873047\n",
            "epoch 94 samples 250 step 0 loss 1.1897622346878052\n",
            "epoch 95 samples 250 step 0 loss 1.1912909746170044\n",
            "epoch 96 samples 250 step 0 loss 1.187683343887329\n",
            "epoch 97 samples 250 step 0 loss 1.1871750354766846\n",
            "epoch 98 samples 250 step 0 loss 1.1818232536315918\n",
            "epoch 99 samples 250 step 0 loss 1.1829890012741089\n",
            "epoch 100 samples 250 step 0 loss 1.1836798191070557\n"
          ]
        }
      ]
    },
    {
      "cell_type": "code",
      "source": [
        "plot_numbers(aux[\"losses\"], aux[\"test_losses\"])\n",
        "plot_numbers(aux[\"accuracies\"], aux[\"test_accuracies\"])"
      ],
      "metadata": {
        "colab": {
          "base_uri": "https://localhost:8080/",
          "height": 1000
        },
        "id": "hKuGbZTl5uMH",
        "outputId": "f8761fc3-dee4-46af-9eb3-5a4f4dae9d2c"
      },
      "execution_count": 10,
      "outputs": [
        {
          "output_type": "display_data",
          "data": {
            "text/plain": [
              "<Figure size 1000x600 with 1 Axes>"
            ],
            "image/png": "[encoded data removed]"
          },
          "metadata": {}
        },
        {
          "output_type": "display_data",
          "data": {
            "text/plain": [
              "<Figure size 1000x600 with 1 Axes>"
            ],
            "image/png": "[encoded data removed]"
          },
          "metadata": {}
        }
      ]
    },
    {
      "cell_type": "code",
      "source": [
        "print(model)"
      ],
      "metadata": {
        "colab": {
          "base_uri": "https://localhost:8080/"
        },
        "id": "DGQMNq93hDGa",
        "outputId": "54845daa-db0b-40ea-bd9b-cf109dd44ae9"
      },
      "execution_count": 11,
      "outputs": [
        {
          "output_type": "stream",
          "name": "stdout",
          "text": [
            "HookedTransformer(\n",
            "  (embed): Embed()\n",
            "  (hook_embed): HookPoint()\n",
            "  (pos_embed): PosEmbed()\n",
            "  (hook_pos_embed): HookPoint()\n",
            "  (blocks): ModuleList(\n",
            "    (0): TransformerBlock(\n",
            "      (ln1): LayerNorm(\n",
            "        (hook_scale): HookPoint()\n",
            "        (hook_normalized): HookPoint()\n",
            "      )\n",
            "      (ln2): LayerNorm(\n",
            "        (hook_scale): HookPoint()\n",
            "        (hook_normalized): HookPoint()\n",
            "      )\n",
            "      (attn): Attention(\n",
            "        (hook_k): HookPoint()\n",
            "        (hook_q): HookPoint()\n",
            "        (hook_v): HookPoint()\n",
            "        (hook_z): HookPoint()\n",
            "        (hook_attn_scores): HookPoint()\n",
            "        (hook_pattern): HookPoint()\n",
            "        (hook_result): HookPoint()\n",
            "      )\n",
            "      (mlp): MLP(\n",
            "        (hook_pre): HookPoint()\n",
            "        (hook_post): HookPoint()\n",
            "      )\n",
            "      (hook_attn_in): HookPoint()\n",
            "      (hook_q_input): HookPoint()\n",
            "      (hook_k_input): HookPoint()\n",
            "      (hook_v_input): HookPoint()\n",
            "      (hook_mlp_in): HookPoint()\n",
            "      (hook_attn_out): HookPoint()\n",
            "      (hook_mlp_out): HookPoint()\n",
            "      (hook_resid_pre): HookPoint()\n",
            "      (hook_resid_mid): HookPoint()\n",
            "      (hook_resid_post): HookPoint()\n",
            "    )\n",
            "  )\n",
            "  (ln_final): LayerNorm(\n",
            "    (hook_scale): HookPoint()\n",
            "    (hook_normalized): HookPoint()\n",
            "  )\n",
            "  (unembed): Unembed()\n",
            ")\n"
          ]
        }
      ]
    },
    {
      "cell_type": "code",
      "source": [
        "import seaborn as sns\n",
        "import matplotlib.pyplot as plt\n",
        "import numpy as np\n",
        "from scipy.special import softmax\n",
        "\n",
        "hook_values = attn_score_hook_values\n",
        "sample_choice = 15\n",
        "\n",
        "# Replace -inf values with a placeholder value (e.g., the minimum finite value)\n",
        "attention_scores = hook_values[-1][sample_choice,0,:,:].cpu().detach().numpy()\n",
        "attention_scores = softmax(attention_scores, axis=-1)\n",
        "score_data = aux[\"batches\"][-1][\"tokens\"][sample_choice].cpu().detach().numpy().tolist()\n",
        "\n",
        "print(np.argmax(softmax(aux[\"predictions\"][-1][sample_choice].cpu().detach().numpy(),axis=-1),axis=-1))\n",
        "\n",
        "print(score_data)\n",
        "for index, entry in enumerate(score_data[:-1], start=1):\n",
        "  print(f\"index:{index} prediction:{score_data[index]} first_index:{score_data.index(score_data[index])+1}\")\n",
        "\n",
        "# Set up the figure and axes\n",
        "fig, ax = plt.subplots(figsize=(10, 8))\n",
        "\n",
        "# Create a custom colormap\n",
        "cmap = sns.color_palette(\"coolwarm\", as_cmap=True)\n",
        "\n",
        "# Plot the heatmap\n",
        "sns.heatmap(attention_scores, cmap=cmap, square=True, linewidths=0.5, cbar_kws={\"shrink\": 0.8})\n",
        "\n",
        "# Set the title and labels\n",
        "ax.set_title(\"Attention Scores\", fontsize=18)\n",
        "ax.set_xlabel(\"Key Position\", fontsize=14)\n",
        "ax.set_ylabel(\"Query Position\", fontsize=14)\n",
        "\n",
        "# Set the tick labels\n",
        "ax.set_xticks(np.arange(0.5, size * 2 + .5, 1))\n",
        "ax.set_yticks(np.arange(0.5, size * 2 + .5, 1))\n",
        "ax.set_xticklabels(np.arange(1, size * 2 + 1), fontsize=12)\n",
        "ax.set_yticklabels(np.arange(1, size * 2 + 1), fontsize=12)\n",
        "\n",
        "# Rotate the x-tick labels\n",
        "plt.xticks(rotation=45)\n",
        "\n",
        "\n",
        "# Add a colorbar\n",
        "cbar = ax.collections[0].colorbar\n",
        "cbar.ax.tick_params(labelsize=12)\n",
        "\n",
        "# Show the plot\n",
        "plt.tight_layout()\n",
        "plt.show()"
      ],
      "metadata": {
        "colab": {
          "base_uri": "https://localhost:8080/",
          "height": 1000
        },
        "id": "yueNgs9vHPLv",
        "outputId": "fbbc9623-d60b-4d19-aea1-acbbfba45935"
      },
      "execution_count": 18,
      "outputs": [
        {
          "output_type": "stream",
          "name": "stdout",
          "text": [
            "[19 12 11 16  0  5  7  8 18 20 10]\n",
            "[8, 7, 20, 5, 18, 0, 5, 7, 8, 18, 20]\n",
            "index:1 prediction:7 first_index:2\n",
            "index:2 prediction:20 first_index:3\n",
            "index:3 prediction:5 first_index:4\n",
            "index:4 prediction:18 first_index:5\n",
            "index:5 prediction:0 first_index:6\n",
            "index:6 prediction:5 first_index:4\n",
            "index:7 prediction:7 first_index:2\n",
            "index:8 prediction:8 first_index:1\n",
            "index:9 prediction:18 first_index:5\n",
            "index:10 prediction:20 first_index:3\n"
          ]
        },
        {
          "output_type": "display_data",
          "data": {
            "text/plain": [
              "<Figure size 1000x800 with 2 Axes>"
            ],
            "image/png": "[encoded data removed]"
          },
          "metadata": {}
        }
      ]
    },
    {
      "cell_type": "code",
      "source": [],
      "metadata": {
        "id": "ezlYxxya_wAE"
      },
      "execution_count": 12,
      "outputs": []
    },
    {
      "cell_type": "code",
      "source": [
        "# integers from 0 - 9 [inclusive]\n",
        "# <mid> token, <padding> token, positional embeddings, no start token, no end token\n",
        "# fixed length\n",
        "# 8 tokens -> mid token -> decode 8 tokens\n",
        "# embedding table maps each of our tokens to an embedding (learned) -> first layer\n",
        "# generate random sequences -> compute second half based on first half\n",
        "# see how fast we can train a thing and use that to determine how many examples (fast iteration - 5s / actual experiments 5min)\n",
        "#"
      ],
      "metadata": {
        "id": "LxXKVw3RTLFP"
      },
      "execution_count": 13,
      "outputs": []
    },
    {
      "cell_type": "code",
      "source": [
        "\"\"\"\n",
        "dataloader = DataLoader(dataset, batch_size=train_cfg.batch_size, shuffle=True)\n",
        "model.to(train_cfg.device)\n",
        "single_example = next(iter(dataloader))\n",
        "tokens = single_example[\"tokens\"].to(train_cfg.device)\n",
        "logits = model(tokens, return_type=\"logits\")\n",
        "\n",
        "print(single_example)\n",
        "logits\n",
        "\"\"\""
      ],
      "metadata": {
        "id": "VmZ_muELZz33",
        "colab": {
          "base_uri": "https://localhost:8080/",
          "height": 52
        },
        "outputId": "994c5388-c4ab-405f-c589-1f147e082ae4"
      },
      "execution_count": 14,
      "outputs": [
        {
          "output_type": "execute_result",
          "data": {
            "text/plain": [
              "'\\ndataloader = DataLoader(dataset, batch_size=train_cfg.batch_size, shuffle=True)\\nmodel.to(train_cfg.device)\\nsingle_example = next(iter(dataloader))\\ntokens = single_example[\"tokens\"].to(train_cfg.device)\\nlogits = model(tokens, return_type=\"logits\")\\n\\nprint(single_example)\\nlogits\\n'"
            ],
            "application/vnd.google.colaboratory.intrinsic+json": {
              "type": "string"
            }
          },
          "metadata": {},
          "execution_count": 14
        }
      ]
    },
    {
      "cell_type": "code",
      "source": [],
      "metadata": {
        "id": "M8qztu3eTU7_"
      },
      "execution_count": 14,
      "outputs": []
    },
    {
      "cell_type": "code",
      "source": [],
      "metadata": {
        "id": "AjCb3SsdThLB"
      },
      "execution_count": null,
      "outputs": []
    }
  ]
}